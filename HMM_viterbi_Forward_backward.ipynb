{
 "cells": [
  {
   "cell_type": "code",
   "execution_count": 3,
   "id": "98d1a3da",
   "metadata": {},
   "outputs": [],
   "source": [
    "def viterbi():\n",
    "    best_seq = []\n",
    "    delta = []\n",
    "    for _ in range(lop+1):\n",
    "        delta.append([0,0])\n",
    "    for i in range(len(delta)):\n",
    "        if i == 0:\n",
    "            delta[i][0] = ip[0]\n",
    "            delta[i][1] = ip[1]\n",
    "            continue\n",
    "         # a 00 01 d\n",
    "         # b 10 11 c\n",
    "        a, b = float(delta[i-1][0]*tp[0][0]*ep[0][i-1]), float(delta[i-1][1]*tp[1][0]*ep[1][i-1])\n",
    "        c, d = float(delta[i-1][1]*tp[1][1]*ep[1][i-1]), float(delta[i-1][0]*tp[0][1]*ep[0][i-1])\n",
    "        delta[i][0] = max(a,b)\n",
    "        delta[i][1] = max(c,d)\n",
    "        \n",
    "        if a >= b and d >= c:\n",
    "            best_seq.append(states[0])\n",
    "        else:\n",
    "            best_seq.append(states[1])\n",
    "        if i == len(delta) - 1:\n",
    "            if delta[i][0] >= delta[i][1]:\n",
    "                best_seq.append(states[0])\n",
    "            else:\n",
    "                best_seq.append(states[1])\n",
    "    return delta, best_seq"
   ]
  },
  {
   "cell_type": "code",
   "execution_count": 4,
   "id": "bd1b958a",
   "metadata": {},
   "outputs": [],
   "source": [
    "states = ['cp','ip']\n",
    "ls = len(states)\n",
    "\n",
    "#Initial Probability\n",
    "ip = [1.0,0.0]\n",
    "\n",
    "# transition probability\n",
    "tp = [[0.7,0.3],\n",
    "      [0.5,0.5]]\n",
    "\n",
    "#output seq\n",
    "op = ['lem','ice','cola']\n",
    "lop = len(op)\n",
    "\n",
    "#emission probablity of o/p\n",
    "ep = [[0.3,0.1,0.6],\n",
    "       [0.2,0.7,0.1]]"
   ]
  },
  {
   "cell_type": "code",
   "execution_count": 5,
   "id": "ac3e2a98",
   "metadata": {},
   "outputs": [
    {
     "name": "stdout",
     "output_type": "stream",
     "text": [
      "[[1.0, 0.0], [0.21, 0.09], [0.0315, 0.0315], [0.01323, 0.00567]]\n",
      "best_seq: ['cp', 'ip', 'cp', 'cp']\n"
     ]
    }
   ],
   "source": [
    "delta, best_seq = viterbi()\n",
    "print(delta)\n",
    "print(\"best_seq:\", best_seq)"
   ]
  },
  {
   "cell_type": "code",
   "execution_count": 6,
   "id": "dee43202",
   "metadata": {},
   "outputs": [
    {
     "name": "stdout",
     "output_type": "stream",
     "text": [
      "prob of best seq: 0.01323\n"
     ]
    },
    {
     "data": {
      "text/plain": [
       "[0.01323, 0.00567]"
      ]
     },
     "execution_count": 6,
     "metadata": {},
     "output_type": "execute_result"
    }
   ],
   "source": [
    "d = delta[-1]\n",
    "prob = max(d)\n",
    "print(\"prob of best seq:\", prob)\n",
    "d"
   ]
  },
  {
   "cell_type": "code",
   "execution_count": 1,
   "id": "ac281935",
   "metadata": {},
   "outputs": [
    {
     "name": "stdout",
     "output_type": "stream",
     "text": [
      "Viterbi delta:\n",
      "Step 0: [1.0, 0.0]\n",
      "Step 1: [0.21, 0.09]\n",
      "Step 2: [0.0315, 0.0315]\n",
      "Step 3: [0.01323, 0.00567]\n",
      "Viterbi best_seq: ['cp', 'ip', 'cp', 'cp']\n",
      "\n",
      "Forward probabilities:\n",
      "Step 0: [0.3, 0.0]\n",
      "Step 1: [0.063, 0.018]\n",
      "Step 2: [0.0053100000000000005, 0.01953]\n",
      "Step 3: [0.0080892, 0.0011358]\n",
      "\n",
      "Backward probabilities:\n",
      "Step 0: [0.03723599999999999, 0.028939999999999994]\n",
      "Step 1: [0.08279999999999998, 0.08199999999999999]\n",
      "Step 2: [0.27999999999999997, 0.39999999999999997]\n",
      "Step 3: [1, 1]\n",
      "\n",
      "Predicted Sequence:\n",
      "['cp', 'ip', 'cp']\n"
     ]
    }
   ],
   "source": [
    "def viterbi():\n",
    "    best_seq = []\n",
    "    delta = []\n",
    "    for _ in range(lop+1):\n",
    "        delta.append([0,0])\n",
    "    for i in range(len(delta)):\n",
    "        if i == 0:\n",
    "            delta[i][0] = ip[0]\n",
    "            delta[i][1] = ip[1]\n",
    "            continue\n",
    "\n",
    "        a, b = float(delta[i-1][0]*tp[0][0]*ep[0][i-1]), float(delta[i-1][1]*tp[1][0]*ep[1][i-1])\n",
    "        c, d = float(delta[i-1][1]*tp[1][1]*ep[1][i-1]), float(delta[i-1][0]*tp[0][1]*ep[0][i-1])\n",
    "        delta[i][0] = max(a,b)\n",
    "        delta[i][1] = max(c,d)\n",
    "        \n",
    "        if a >= b and d >= c:\n",
    "            best_seq.append(states[0])\n",
    "        else:\n",
    "            best_seq.append(states[1])\n",
    "        if i == len(delta) - 1:\n",
    "            if delta[i][0] >= delta[i][1]:\n",
    "                best_seq.append(states[0])\n",
    "            else:\n",
    "                best_seq.append(states[1])\n",
    "    return delta, best_seq\n",
    "\n",
    "def forward():\n",
    "    alpha = []\n",
    "    for _ in range(lop+1):\n",
    "        alpha.append([0,0])\n",
    "    for i in range(len(alpha)):\n",
    "        if i == 0:\n",
    "            alpha[i][0] = ip[0] * ep[0][0]\n",
    "            alpha[i][1] = ip[1] * ep[1][0]\n",
    "            continue\n",
    "\n",
    "        alpha[i][0] = ep[0][i-1] * (alpha[i-1][0]*tp[0][0] + alpha[i-1][1]*tp[1][0])\n",
    "        alpha[i][1] = ep[1][i-1] * (alpha[i-1][0]*tp[0][1] + alpha[i-1][1]*tp[1][1])\n",
    "\n",
    "    return alpha\n",
    "\n",
    "def backward():\n",
    "    beta = []\n",
    "    for _ in range(lop+1):\n",
    "        beta.append([0,0])\n",
    "    for i in range(len(beta)-1, -1, -1):\n",
    "        if i == len(beta) - 1:\n",
    "            beta[i][0] = 1\n",
    "            beta[i][1] = 1\n",
    "            continue\n",
    "\n",
    "        beta[i][0] = tp[0][0]*ep[0][i-1]*beta[i+1][0] + tp[0][1]*ep[1][i-1]*beta[i+1][1]\n",
    "        beta[i][1] = tp[1][0]*ep[0][i-1]*beta[i+1][0] + tp[1][1]*ep[1][i-1]*beta[i+1][1]\n",
    "\n",
    "    return beta\n",
    "\n",
    "def forward_backward():\n",
    "    forward_prob = forward()\n",
    "    backward_prob = backward()\n",
    "\n",
    "    sequence = []\n",
    "    for i in range(lop+1):\n",
    "        prob_cp = forward_prob[i][0] * backward_prob[i][0]\n",
    "        prob_ip = forward_prob[i][1] * backward_prob[i][1]\n",
    "\n",
    "        if prob_cp > prob_ip:\n",
    "            sequence.append(states[0])\n",
    "        else:\n",
    "            sequence.append(states[1])\n",
    "\n",
    "    return sequence[1:]  # Omit the initial state prediction (which is always the same)\n",
    "\n",
    "states = ['cp', 'ip']\n",
    "ls = len(states)\n",
    "\n",
    "# Initial Probability\n",
    "ip = [1.0, 0.0]\n",
    "\n",
    "# Transition probability\n",
    "tp = [[0.7, 0.3],\n",
    "      [0.5, 0.5]]\n",
    "\n",
    "# Output sequence\n",
    "op = ['lem', 'ice', 'cola']\n",
    "lop = len(op)\n",
    "\n",
    "# Emission probability of output\n",
    "ep = [[0.3, 0.1, 0.6],\n",
    "      [0.2, 0.7, 0.1]]\n",
    "\n",
    "delta, best_seq = viterbi()\n",
    "print(\"Viterbi delta:\")\n",
    "for i in range(len(delta)):\n",
    "    print(f\"Step {i}: {delta[i]}\")\n",
    "print(\"Viterbi best_seq:\", best_seq)\n",
    "\n",
    "alpha = forward()\n",
    "print(\"\\nForward probabilities:\")\n",
    "for i in range(len(alpha)):\n",
    "    print(f\"Step {i}: {alpha[i]}\")\n",
    "\n",
    "beta = backward()\n",
    "print(\"\\nBackward probabilities:\")\n",
    "for i in range(len(beta)):\n",
    "    print(f\"Step {i}: {beta[i]}\")\n",
    "\n",
    "predicted_sequence = forward_backward()\n",
    "print(\"\\nPredicted Sequence:\")\n",
    "print(predicted_sequence)\n"
   ]
  },
  {
   "cell_type": "code",
   "execution_count": null,
   "id": "e3cce78a-8e5c-4624-b9e3-501ba1259236",
   "metadata": {},
   "outputs": [],
   "source": []
  }
 ],
 "metadata": {
  "kernelspec": {
   "display_name": "Python 3 (ipykernel)",
   "language": "python",
   "name": "python3"
  },
  "language_info": {
   "codemirror_mode": {
    "name": "ipython",
    "version": 3
   },
   "file_extension": ".py",
   "mimetype": "text/x-python",
   "name": "python",
   "nbconvert_exporter": "python",
   "pygments_lexer": "ipython3",
   "version": "3.10.10"
  }
 },
 "nbformat": 4,
 "nbformat_minor": 5
}
