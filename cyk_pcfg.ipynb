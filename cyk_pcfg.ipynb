{
 "cells": [
  {
   "cell_type": "code",
   "execution_count": 1,
   "id": "99d223b2-3d1a-4ca3-ba52-ca3187ac89f9",
   "metadata": {},
   "outputs": [
    {
     "name": "stdout",
     "output_type": "stream",
     "text": [
      "The sentence \"the cat chased the dog\" is grammatically correct with a probability of:0.00048599999999999994\n",
      "The sentence \"the dog chased the cat\" is grammatically correct with a probability of:0.00048599999999999994\n",
      "The sentence \"the dog chased the bird\" is grammatically correct with a probability of:0.00048599999999999994\n",
      "The sentence \"Book read\" is not grammatically correct.\n"
     ]
    }
   ],
   "source": [
    "# CYK Used defined\n",
    "import numpy as pd\n",
    "import nltk\n",
    "# Define a Probabilistic Context-Free Grammar (PCFG)\n",
    "pcfg = nltk.PCFG.fromstring(\"\"\"\n",
    " S -> NP VP [0.9]\n",
    " S -> VP [0.1]\n",
    " VP -> V NP [0.5]\n",
    " VP -> V [0.5]\n",
    " NP -> Det N [0.3]\n",
    " NP -> N [0.7]\n",
    " N -> 'cat' [0.2]\n",
    " N -> 'book' [0.2]\n",
    " N -> 'bird' [0.2]\n",
    " N -> 'dog' [0.4]\n",
    " V -> 'read' [0.1]\n",
    " V -> 'chased' [0.6]\n",
    " V -> 'ate' [0.3]\n",
    " Det -> 'the' [0.5]\n",
    " Det -> 'a' [0.5]\n",
    "\"\"\")\n",
    "sentences=[\n",
    "\"the cat chased the dog\",\n",
    "\"the dog chased the cat\",\n",
    "\"the dog chased the bird\",\n",
    "\"Book read\"\n",
    "]\n",
    "# Input sentence to parse\n",
    "#sentence = \"the cat chased the dog\".split()\n",
    "def cyk_parse_with_probability(pcfg, sentence):\n",
    "    n = len(sentence)\n",
    "    table = [[[] for _ in range(n)] for _ in range(n)]\n",
    " # Initialize the table with production probabilities\n",
    "    for i in range(n):\n",
    "        for prod in pcfg.productions(rhs=sentence[i]):\n",
    "            table[i][i] = [(prod.lhs(), prod.prob())]\n",
    " # Fill the table for longer substrings\n",
    "    for length in range(2, n + 1):\n",
    "        for i in range(n - length + 1):\n",
    "            j = i + length - 1\n",
    "            for k in range(i, j):\n",
    "                for prod in pcfg.productions():\n",
    "                    for left, left_prob in table[i][k]:\n",
    "                        for right, right_prob in table[k + 1][j]:\n",
    "                            if prod.rhs() == (left, right):\n",
    "                                prob = left_prob * right_prob *prod.prob()\n",
    "                                if table[i][j] is None:\n",
    "                                    table[i][j] = [(prod.lhs(), prob)]\n",
    "                                else:\n",
    "                                    table[i][j].append((prod.lhs(),prob))\n",
    " # Check if the start symbol is in the top-right cell\n",
    "    if pcfg.start() in [lhs for lhs, prob in table[0][n - 1]]:\n",
    " # Find the probability for the full sentence\n",
    "        for lhs, prob in table[0][n - 1]:\n",
    "            if lhs == pcfg.start():\n",
    "                return prob\n",
    "    return 0.0\n",
    "# Parse the sentence and calculate the probability\n",
    "for sent in sentences:\n",
    "    probability = cyk_parse_with_probability(pcfg,sent.lower().split())\n",
    "    if probability > 0:\n",
    "        print(f'The sentence \"{sent}\" is grammatically correct with a probability of:{probability}')\n",
    "    else:\n",
    "        print(f\"The sentence \\\"{sent}\\\" is not grammatically correct.\")"
   ]
  },
  {
   "cell_type": "code",
   "execution_count": null,
   "id": "120b46c9-a2dd-430e-8762-9a266379b1aa",
   "metadata": {},
   "outputs": [],
   "source": []
  }
 ],
 "metadata": {
  "kernelspec": {
   "display_name": "Python 3 (ipykernel)",
   "language": "python",
   "name": "python3"
  },
  "language_info": {
   "codemirror_mode": {
    "name": "ipython",
    "version": 3
   },
   "file_extension": ".py",
   "mimetype": "text/x-python",
   "name": "python",
   "nbconvert_exporter": "python",
   "pygments_lexer": "ipython3",
   "version": "3.10.10"
  }
 },
 "nbformat": 4,
 "nbformat_minor": 5
}
