{
 "cells": [
  {
   "cell_type": "code",
   "execution_count": 4,
   "id": "e7181645-9afe-486b-963f-0f00da468c47",
   "metadata": {},
   "outputs": [
    {
     "name": "stdout",
     "output_type": "stream",
     "text": [
      "Lambda value: -0.0328119091595046\n",
      "The preposition is attached to the noun.\n"
     ]
    }
   ],
   "source": [
    "import math\n",
    "def attachment_ambiguity(counts):\n",
    "    c_v = counts[0][0]  \n",
    "    c_vp = counts[0][1]  \n",
    "    c_n = counts[1][0]  \n",
    "    c_np = counts[1][1]  \n",
    "\n",
    "    numerator = (c_vp / c_v) * (1 - (c_np / c_n))\n",
    "    denominator = c_np / c_n\n",
    "    lambda_value = math.log2( numerator / denominator )\n",
    "\n",
    "    if lambda_value > 0:\n",
    "        print(\"Lambda value:\", lambda_value)\n",
    "        print(\"The preposition is attached to the verb.\")\n",
    "    else:\n",
    "        print(\"Lambda value:\", lambda_value)\n",
    "        print(\"The preposition is attached to the noun.\")\n",
    "\n",
    "example_counts = [\n",
    "    [5156, 607],  \n",
    "    [1442, 155]\n",
    "]\n",
    "\n",
    "attachment_ambiguity(example_counts)\n"
   ]
  },
  {
   "cell_type": "code",
   "execution_count": null,
   "id": "0614d4ba-7030-4051-b85f-0c40283244c6",
   "metadata": {},
   "outputs": [],
   "source": []
  }
 ],
 "metadata": {
  "kernelspec": {
   "display_name": "Python 3 (ipykernel)",
   "language": "python",
   "name": "python3"
  },
  "language_info": {
   "codemirror_mode": {
    "name": "ipython",
    "version": 3
   },
   "file_extension": ".py",
   "mimetype": "text/x-python",
   "name": "python",
   "nbconvert_exporter": "python",
   "pygments_lexer": "ipython3",
   "version": "3.10.10"
  }
 },
 "nbformat": 4,
 "nbformat_minor": 5
}
